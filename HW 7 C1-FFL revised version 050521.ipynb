{
 "cells": [
  {
   "cell_type": "markdown",
   "metadata": {},
   "source": [
    "# HW 1 Type 1 Coherent Feed-Forward Loop"
   ]
  },
  {
   "cell_type": "markdown",
   "metadata": {},
   "source": [
    "Created by: Lu Chao, Canal Li\n",
    "\n",
    "Last updated by: Canal and Ethan on 2020-12-26"
   ]
  },
  {
   "cell_type": "markdown",
   "metadata": {},
   "source": [
    "# Part 1 Written HW (50 points)"
   ]
  },
  {
   "cell_type": "markdown",
   "metadata": {},
   "source": [
    "### <span style=\"color:red\"> For this part, submit your response (neatly and clearly) to gradescope."
   ]
  },
  {
   "cell_type": "markdown",
   "metadata": {},
   "source": [
    "## Question1: Dynamics of Negative Autoregulation (15 points)"
   ]
  },
  {
   "cell_type": "markdown",
   "metadata": {},
   "source": [
    "<p><strong>To understand why autoregulation is worth selecting for, we turn to the dynamics that arise from a system that uses it. Specifically, we will be looking at negative auto-regulation, by which a gene’s product represses its own transcription, as this is the type of auto-regulation displayed by more than 80% of the self-regulating genes.</strong>\n",
    "\n",
    "Recall from last lecture that a gene’s transcription is governed by its production\n",
    "rate $f(X)$ as well as its degradation rate $\\alpha$\n",
    "$$\\frac{dX}{dt}=f(X)-\\alpha X $$\n",
    "However, the concentration of $X$ appears to increase linearly (for strong negative autoregulation) until it reaches the threshold, $K$.\n",
    "\n",
    "1) Provide evidence of why autoregulation must have been selected for (rather than just having completely randomized nodes and edges?) <span style=\"color:green\"> **2 points**\n",
    "\n",
    "2) Why is there a linear increase in the concentration of $X$ before it reaches the threshold? (2 pts) And write the equations for the change in concentration of $X$ when it is both above and below this threshold and solve the differential equations.(5 pts) Also, draw a zoomed in version of the negative autoregulation plot that emphasizes what the concentration of $X$ looks like over time at steady state. (2 pts)<span style=\"color:green\"> **9 points**\n",
    "\n",
    "3) How can you differentiate between strong and weak autoregulation just by looking at the equation? (1 pts)  What would be a scenario in which strong negative autoregulation would be more beneficial than weak and why? (3 pts) <span style=\"color:green\"> **4 points**"
   ]
  },
  {
   "cell_type": "markdown",
   "metadata": {},
   "source": [
    "## Question 2: FFL part 1, with part 2 in next homework (35 points) "
   ]
  },
  {
   "cell_type": "markdown",
   "metadata": {},
   "source": [
    "<strong>Next, we will turn to coherent feed-forward loops (C-FFLs). These loops consist of two transcription factors, $X$ and $Y$, which regulate the transcription of a gene, $Z$. There are both coherent and incoherent feed-forward loops, depending on the transcription factors' effects on $Z$.</strong>\n",
    "\n",
    "1)Draw the node subgraph that is most commonly used in biological systems for C1-FFLs. Be sure to label which nodes represent transcription factors $X$ and $Y$ and gene $Z$. <span style=\"color:green\"> **4 points**\n",
    "\n",
    "2)What differentiates a coherent from an incoherent network? be sure to address more than one difference.<span style=\"color:green\"> **5 points**\n",
    "\n",
    "3)Imagine a cell is in an environment that has many different unnecessary signals always being produced. It is difficult for the cell to determine which are important and which are steady vs. transient (i.e. should the cell immediately respond to the addition or removal of $S_X$, or should there be a delay before the reaction?). Which type of C1-FFL would be more useful for the cell to utilize in this type of environment (and why?), and what is this phenomenon called? (5 pts) What type of environment would the cell more likely use the other type of C1-FFL and why? (5 pts) <span style=\"color:green\"> **10 points**\n",
    "\n",
    "4)Now, we will focus a bit on the incoherent FFL. What is the node subgraph most commonly used in biological systems for I1-FFLs. Again, be sure to label which nodes represent transcription factors $X$ and $Y$ and gene $Z$.<span style=\"color:green\"> **6 points**\n",
    "\n",
    "5)Label what form of regulation each line in the image below represents.(3 pts) What is unique about the I1-FFL line and why does this occur? (3 pts) What are some pros and cons of this unique feature? (4 pts)<span style=\"color:green\"> **10 points**\n",
    "<center>\n",
    "    <img src=\"comparison.png\" width=\"400px\" />\n",
    "<center>"
   ]
  },
  {
   "cell_type": "markdown",
   "metadata": {},
   "source": [
    "# Part 2 Coding HW (50 points)"
   ]
  },
  {
   "cell_type": "markdown",
   "metadata": {},
   "source": [
    "## Import packages"
   ]
  },
  {
   "cell_type": "code",
   "execution_count": 177,
   "metadata": {},
   "outputs": [],
   "source": [
    "# Use ctrl+enter to execute this cell\n",
    "import matplotlib.pyplot as plt\n",
    "import numpy as np"
   ]
  },
  {
   "cell_type": "markdown",
   "metadata": {},
   "source": [
    "## Section 1 AND-gated C1-FFL, exact solution (10 pts)"
   ]
  },
  {
   "cell_type": "markdown",
   "metadata": {},
   "source": [
    "Here, you are asked to reuse some of the codes from the AND-gated C1-FFL, to create the plot for the <span style=\"color:red\">AND-gated C1-FFL</span>. Recall from lecture that AND-gated C1-FFL is defined as:\n",
    "$$\\frac{dX}{dt} = \\beta \\theta ( S_{x} \\text{ is present)} -\\alpha X$$\n",
    "$$\\frac{dY}{dt} = \\beta \\theta ( X>K_{XY}) -\\alpha Y$$\n",
    "$$\\frac{dZ}{dt} = \\beta \\theta (X>K_{XZ} \\text{ AND } Y>K_{YZ}) -\\alpha Z$$\n",
    "</p>"
   ]
  },
  {
   "cell_type": "code",
   "execution_count": 178,
   "metadata": {
    "scrolled": true
   },
   "outputs": [],
   "source": [
    "def AND_gate_C1(tOFF=25, beta=0.5, alpha=0.25, kxy=1.0, kxz=0.5, kyz=0.75):\n",
    "    \"\"\"\n",
    "    Here we use the exact solution (solving for X(t), Y(t), Z(t)) solved in lecture.\n",
    "    As a quick reminder, we have given the solutions of these in the markdown cell above.\n",
    "    Note that here we use same alpha and beta values for all X,Y,Z to simplify coding.\n",
    "    INPUT:\n",
    "        beta,alpha,kxy,kxz,kyz - parameters of the AND-gated C1-FFL\n",
    "    OUPUT:\n",
    "        sx,x,y,z - the exact values of these concentrations that varies with time t\n",
    "    \"\"\"\n",
    "    #Dont change these\n",
    "    # t is an array of time steps, with dt=t[i+1]-t[i] \n",
    "    # representing a (very small) discrete interval that allows us to plot X,Y,Z\n",
    "    # here -5 means the plot starts at t=-5 (to visualize the presence of Sx at t=0)\n",
    "    # 50 means the plot ends at t=45, and 1000 means there are 1000 time steps\n",
    "    # so one time step, dt = (45-(-5))/1000 = 0.05\n",
    "    t = np.linspace(-5, 45, 1000)\n",
    "    # sx,x,y,z are the concentrations of Sx,X,Y,Z that vary with time t\n",
    "    # they are all initialized to zero and \n",
    "    # you will fill their values at time t[i] for all t[i]\n",
    "    # len(t) = 1000 as there are 1000 time steps\n",
    "    sx,x,y,z = np.zeros(len(t)), np.zeros(len(t)), np.zeros(len(t)), np.zeros(len(t))\n",
    "\n",
    "    # Sx\n",
    "    # Sx is turned ON at t=0, and turned OFF at tOFF, default t=25\n",
    "    for i in range(len(t)):\n",
    "        if t[i] > 0 and t[i] <= tOFF:\n",
    "            sx[i] = 1\n",
    "\n",
    "    # X\n",
    "    for i in range(len(t)):\n",
    "        # X begin to change after t=0\n",
    "        if (t[i] > 0) :\n",
    "            if sx[i] == 1:\n",
    "                x[i] = beta/alpha * (1-np.exp(-alpha*t[i]))\n",
    "            else:\n",
    "                x[i] = beta/alpha * np.exp(-alpha * (t[i]-tOFF)) #Sx is OFF after t=tOFF\n",
    "        \n",
    "    # Since the exact solution requires us to record the time \n",
    "    # when x just reach above kxy or kxz, and when x just drop below kxy or kxz\n",
    "    # this switches ON or OFF Y and Z\n",
    "    x_below_kxy = True # x is below kxy and kxz at the start\n",
    "    x_below_kxz = True\n",
    "    for i in range(len(t)):\n",
    "        if x_below_kxy and x[i] >= kxy:\n",
    "            x_below_kxy = False\n",
    "            x_reach_kxy = t[i]\n",
    "        elif not x_below_kxy and x[i] < kxy:\n",
    "            x_below_kxy = True\n",
    "            x_drop_kxy = t[i]\n",
    "        if x_below_kxz and x[i] >= kxz:\n",
    "            x_below_kxz = False\n",
    "            x_reach_kxz = t[i]\n",
    "        elif not x_below_kxz and x[i] < kxz:\n",
    "            x_below_kxz = True\n",
    "            x_drop_kxz = t[i]\n",
    "    print(\"x reaches kxz at time t=%.4f\" % x_reach_kxz)\n",
    "    print(\"x reaches kxy at time t=%.4f\" % x_reach_kxy)\n",
    "    \n",
    "    \n",
    "    # Y\n",
    "    for i in range(len(t)):\n",
    "        if x[i] > kxy:\n",
    "            # the exact solution of growth is shifted \n",
    "            # by a t=x_reach_kxy\n",
    "            y[i] = beta/alpha * (1-np.exp(-alpha*(t[i]-x_reach_kxy)))\n",
    "        elif x[i] < kxy and t[i] >= x_drop_kxy:\n",
    "            # the exact solution of decay is shifted \n",
    "            # by a t=x_drop_kxy\n",
    "            y[i] = beta/alpha * np.exp(-alpha*(t[i]-x_drop_kxy))\n",
    "\n",
    "    # Y threshold\n",
    "    y_below_kyz = True\n",
    "    for i in range(len(t)):\n",
    "        if y_below_kyz and y[i] >= kyz:\n",
    "            y_below_kyz = False\n",
    "            y_reach_kyz = t[i]\n",
    "        elif not y_below_kyz and y[i] < kyz:\n",
    "            y_below_kyz = True\n",
    "            y_drop_kyz = t[i]\n",
    "    print(\"y reaches kyz at time t=%.4f\" % y_reach_kyz)\n",
    "\n",
    "\n",
    "    # Z\n",
    "    # students should be able to fill this out\n",
    "    #############################<GRADED>###########################################\n",
    "    \n",
    "    ##Fill in your solution\n",
    "    for i in range(len(t)):\n",
    "        if y[i]>=kyz and x[i]>=kxz:\n",
    "            if t[i]>=y_reach_kyz and t[i]>=x_reach_kxz:\n",
    "                # expression when both thresholds are reached\n",
    "                if x_reach_kxz < y_reach_kyz:\n",
    "                    larger_of_two = y_reach_kyz\n",
    "                elif x_reach_kxz >= y_reach_kyz:\n",
    "                    larger_of_two = x_reach_kxz\n",
    "                z[i] = beta/alpha*(1-np.exp(-alpha*(t[i]-larger_of_two)))\n",
    "     \n",
    "            \n",
    "    # decay begins when either X or Y is gone, Any OFF signal would turn Z OFF\n",
    "        elif y[i] < kyz or x[i] < kxz :\n",
    "            if t[i]>=y_drop_kyz or t[i]>=x_drop_kxz:\n",
    "                # Z decays immediately after reaching smaller drop\n",
    "                if y_drop_kyz >= x_drop_kxz:\n",
    "                    smaller_of_two = x_drop_kxz\n",
    "                elif y_drop_kyz < x_drop_kxz:\n",
    "                    smaller_of_two = y_drop_kyz\n",
    "                z[i] = beta/alpha * np.exp(-alpha*(t[i]-smaller_of_two))\n",
    "                \n",
    "    \n",
    "    \n",
    "    #############################<GRADED>###########################################\n",
    "\n",
    "    return sx,x,y,z"
   ]
  },
  {
   "cell_type": "markdown",
   "metadata": {},
   "source": [
    "Now, you can use the fuction AND_gate_C1() to print out the time that x and y reach their thresholds.<p> You can also change the parameters to learn how the parameters change the sensitivity."
   ]
  },
  {
   "cell_type": "code",
   "execution_count": 179,
   "metadata": {
    "scrolled": true
   },
   "outputs": [
    {
     "name": "stdout",
     "output_type": "stream",
     "text": [
      "This is the default parameters:\n",
      "x reaches kxz at time t=1.1562\n",
      "x reaches kxy at time t=2.8078\n",
      "y reaches kyz at time t=4.7097\n",
      "\n",
      "This is the changed parameters:\n",
      "x reaches kxz at time t=1.1061\n",
      "x reaches kxy at time t=1.6567\n",
      "y reaches kyz at time t=1.9570\n",
      "\n",
      "And you can tweak around the parameters to see the change\n",
      "x reaches kxz at time t=5.5606\n",
      "x reaches kxy at time t=9.2643\n",
      "y reaches kyz at time t=10.6657\n"
     ]
    }
   ],
   "source": [
    "# run this\n",
    "print(\"This is the default parameters:\")\n",
    "sx,x,y,z = AND_gate_C1()\n",
    "print(\"\\nThis is the changed parameters:\")\n",
    "sx,x,y,z = AND_gate_C1(tOFF=15, beta=0.9, alpha=0.5, kxy=1.0, kxz=0.75, kyz=0.25)\n",
    "print(\"\\nAnd you can tweak around the parameters to see the change\")\n",
    "# in order for the system to make biological sense, beta must be greater than alpha\n",
    "# and avoid very small beta and alpha values (otherwise never reach kxy, kxz, kyz)\n",
    "sx,x,y,z = AND_gate_C1(beta=0.2, alpha=0.15, kxy=1.0, kxz=0.75, kyz=0.25)\n"
   ]
  },
  {
   "cell_type": "code",
   "execution_count": 180,
   "metadata": {},
   "outputs": [],
   "source": [
    "# The fuction for plotting the C1-FFL with Sx, X, Y and Z\n",
    "# You will also use this for the OR-gated C1-FFL\n",
    "def plot_C1_FFL(sx, x, y, z, title, kxy = 1.0, kxz = 0.5, kyz = 0.75):\n",
    "    t = np.linspace(-5, 45, 1000)\n",
    "    kxys = np.full(len(t), kxy)\n",
    "    kxzs = np.full(len(t), kxz)\n",
    "    kyzs = np.full(len(t), kyz)\n",
    "    plt.figure()\n",
    "    plt.subplot(411, xticks=[], yticks=[])\n",
    "    plt.plot(t, sx)\n",
    "    plt.ylabel(\"S_x\")\n",
    "    plt.title(title)\n",
    "    \n",
    "    plt.subplot(412, xticks=[], yticks=[])\n",
    "    plt.plot(t, x, label=\"X\")\n",
    "    plt.plot(t, kxys, 'r--', label=\"Kxy\")\n",
    "    plt.plot(t, kxzs, 'm--', label=\"Kxz\")\n",
    "    plt.ylabel(\"X\")\n",
    "    plt.legend(loc=\"best\")\n",
    "    \n",
    "    plt.subplot(413, xticks=[], yticks=[])\n",
    "    plt.plot(t, y, label=\"Y\")\n",
    "    plt.plot(t, kyzs, 'g--', label=\"Kyz\")\n",
    "    plt.ylabel(\"Y\")\n",
    "    plt.legend(loc=\"best\")\n",
    "    \n",
    "    plt.subplot(414, xticks=[], yticks=[])\n",
    "    plt.plot(t, z, label=\"Z\")\n",
    "    plt.xlabel(\"t\")\n",
    "    plt.ylabel(\"Z\")\n",
    "    plt.legend(loc=\"best\")\n",
    "    \n",
    "    plt.show()"
   ]
  },
  {
   "cell_type": "markdown",
   "metadata": {},
   "source": [
    "Now, you can plot the figure and see for yourself!</p> If your answer is correct, you should get the same figure as this one with default parameters.\n",
    "<center>\n",
    "    <img src=\"ANDC1FFL.png\" width=\"400px\" />\n",
    "<center>\n",
    "\n",
    "And you need to also be correct for the changed parameters.\n",
    "<center>\n",
    "    <img src=\"ANDC1FFL2.png\" width=\"400px\" />\n",
    "<center>\n",
    "    \n",
    "<span style=\"color:blue\">THIS IS YOUR TEST CASE</span>"
   ]
  },
  {
   "cell_type": "code",
   "execution_count": 181,
   "metadata": {
    "scrolled": false
   },
   "outputs": [
    {
     "name": "stdout",
     "output_type": "stream",
     "text": [
      "x reaches kxz at time t=1.1562\n",
      "x reaches kxy at time t=2.8078\n",
      "y reaches kyz at time t=4.7097\n"
     ]
    },
    {
     "data": {
      "image/png": "[encoded data removed]",
      "text/plain": [
       "<Figure size 432x288 with 4 Axes>"
      ]
     },
     "metadata": {},
     "output_type": "display_data"
    },
    {
     "name": "stdout",
     "output_type": "stream",
     "text": [
      "x reaches kxz at time t=2.4074\n",
      "x reaches kxy at time t=1.4565\n",
      "y reaches kyz at time t=3.3584\n"
     ]
    },
    {
     "data": {
      "image/png": "[encoded data removed]",
      "text/plain": [
       "<Figure size 432x288 with 4 Axes>"
      ]
     },
     "metadata": {},
     "output_type": "display_data"
    }
   ],
   "source": [
    "# run this and compare results. \n",
    "# DO NOT CHANGE ANY PARAMETERS\n",
    "sx,x,y,z = AND_gate_C1()\n",
    "plot_C1_FFL(sx,x,y,z,\"AND-gated C1-FFL with default parameters\",kxy=1.0,kxz=0.5,kyz=0.75)\n",
    "sx,x,y,z = AND_gate_C1(tOFF=15, beta=0.5, alpha=0.25, kxy=0.6, kxz=0.9, kyz=0.75)\n",
    "plot_C1_FFL(sx,x,y,z,\"AND-gated C1-FFL with changed parameters\",kxy=0.6,kxz=0.9,kyz=0.75)"
   ]
  },
  {
   "cell_type": "markdown",
   "metadata": {},
   "source": [
    "## Section 2 OR-gated C1-FFL, exact solution (20 pts)"
   ]
  },
  {
   "cell_type": "markdown",
   "metadata": {},
   "source": [
    "Here, you are asked to reuse some of the codes from the AND-gated C1-FFL, to create the plot for the <span style=\"color:red\">OR-gated C1-FFL</span>. Remember from lecture that OR-gated C1-FFL is defined as:\n",
    "$$\\frac{dX}{dt} = \\beta \\theta ( S_{x} \\text{ is present)} -\\alpha X$$\n",
    "$$\\frac{dY}{dt} = \\beta \\theta ( X>K_{XY}) -\\alpha Y$$\n",
    "$$\\frac{dZ}{dt} = \\beta \\theta (X>K_{XZ} \\text{ OR } Y>K_{YZ}) -\\alpha Z$$\n"
   ]
  },
  {
   "cell_type": "code",
   "execution_count": 182,
   "metadata": {},
   "outputs": [],
   "source": [
    "def OR_gate_C1(tOFF=25, beta=0.5, alpha=0.25, kxy=1.0, kxz=0.5, kyz=0.75):\n",
    "    \"\"\"\n",
    "    Write the fuction for getting X(t), Y(t), Z(t) in the OR-gated C1-FFL\n",
    "    INPUT:\n",
    "        beta,alpha,kxy,kxz,kyz - parameters of the OR-gated C1-FFL\n",
    "    OUPUT:\n",
    "        sx,x,y,z - the exact values of these concentrations that varies with time t\n",
    "    \"\"\"\n",
    "    #Dont change these\n",
    "    t = np.linspace(-5, 45, 1000)\n",
    "    sx,x,y,z = np.zeros(len(t)), np.zeros(len(t)), np.zeros(len(t)), np.zeros(len(t))\n",
    "    #############################<GRADED>###########################################\n",
    "    \n",
    "    ##Fill in your solution\n",
    "    # Sx\n",
    "    # Sx is turned ON at t=0, and turned OFF at tOFF, default t=25\n",
    "    for i in range(len(t)):\n",
    "        if t[i] > 0 and t[i] <= tOFF:\n",
    "            sx[i] = 1\n",
    "\n",
    "    # X\n",
    "    for i in range(len(t)):\n",
    "        # X begin to change after t=0\n",
    "        if (t[i] > 0) :\n",
    "            if sx[i] == 1:\n",
    "                x[i] = beta/alpha * (1-np.exp(-alpha*t[i]))\n",
    "            else:\n",
    "                x[i] = beta/alpha * np.exp(-alpha * (t[i]-tOFF)) #Sx is OFF after t=tOFF\n",
    "        \n",
    "    # Since the exact solution requires us to record the time \n",
    "    # when x just reach above kxy or kxz, and when x just drop below kxy or kxz\n",
    "    # this switches ON or OFF Y and Z\n",
    "    x_below_kxy = True # x is below kxy and kxz at the start\n",
    "    x_below_kxz = True\n",
    "    for i in range(len(t)):\n",
    "        if x_below_kxy and x[i] >= kxy:\n",
    "            x_below_kxy = False\n",
    "            x_reach_kxy = t[i]\n",
    "        elif not x_below_kxy and x[i] < kxy:\n",
    "            x_below_kxy = True\n",
    "            x_drop_kxy = t[i]\n",
    "        if x_below_kxz and x[i] >= kxz:\n",
    "            x_below_kxz = False\n",
    "            x_reach_kxz = t[i]\n",
    "        elif not x_below_kxz and x[i] < kxz:\n",
    "            x_below_kxz = True\n",
    "            x_drop_kxz = t[i]\n",
    "    print(\"x reaches kxz at time t=%.4f\" % x_reach_kxz)\n",
    "    print(\"x reaches kxy at time t=%.4f\" % x_reach_kxy)\n",
    "    \n",
    "    \n",
    "    # Y\n",
    "    for i in range(len(t)):\n",
    "        if x[i] > kxy:\n",
    "            # the exact solution of growth is shifted \n",
    "            # by a t=x_reach_kxy\n",
    "            y[i] = beta/alpha * (1-np.exp(-alpha*(t[i]-x_reach_kxy)))\n",
    "        elif x[i] < kxy and t[i] >= x_drop_kxy:\n",
    "            # the exact solution of decay is shifted \n",
    "            # by a t=x_drop_kxy\n",
    "            y[i] = beta/alpha * np.exp(-alpha*(t[i]-x_drop_kxy))\n",
    "\n",
    "    # Y threshold\n",
    "    y_below_kyz = True\n",
    "    for i in range(len(t)):\n",
    "        if y_below_kyz and y[i] >= kyz:\n",
    "            y_below_kyz = False\n",
    "            y_reach_kyz = t[i]\n",
    "        elif not y_below_kyz and y[i] < kyz:\n",
    "            y_below_kyz = True\n",
    "            y_drop_kyz = t[i]\n",
    "    print(\"y reaches kyz at time t=%.4f\" % y_reach_kyz)\n",
    "\n",
    "\n",
    "    # Z\n",
    "    for i in range(len(t)):\n",
    "        if y[i]>=kyz or x[i]>=kxz:\n",
    "            if t[i]>=y_reach_kyz or t[i]>=x_reach_kxz:\n",
    "                # expression when both thresholds are reached\n",
    "                if x_reach_kxz >= y_reach_kyz:\n",
    "                    smaller_of_two = y_reach_kyz\n",
    "                elif x_reach_kxz < y_reach_kyz:\n",
    "                    smaller_of_two = x_reach_kxz\n",
    "                z[i] = beta/alpha*(1-np.exp(-alpha*(t[i]-smaller_of_two)))\n",
    "     \n",
    "            \n",
    "    # decay begins when either X or Y is gone, Any OFF signal would turn Z OFF\n",
    "        elif y[i] < kyz or x[i] < kxz :\n",
    "            if t[i]>=y_drop_kyz or t[i]>=x_drop_kxz :\n",
    "                # Z decays immediately after reaching smaller drop\n",
    "                if y_drop_kyz < x_drop_kxz:\n",
    "                    larger_of_two = x_drop_kxz\n",
    "                elif y_drop_kyz >= x_drop_kxz:\n",
    "                    larger_of_two = y_drop_kyz\n",
    "                z[i] = beta/alpha * np.exp(-alpha*(t[i]-larger_of_two))\n",
    "                \n",
    "    \n",
    "    \n",
    "    #############################<GRADED>###########################################\n",
    "    return sx,x,y,z"
   ]
  },
  {
   "cell_type": "markdown",
   "metadata": {},
   "source": [
    "Now, you can plot the figure and see for yourself! If your answer is correct, you should get the same figures, as in the case of AND-gated C1-FFL\n",
    "<center>\n",
    "    <img src=\"ORC1FFL.png\" width=\"300px\" />\n",
    "<center>\n",
    "    \n",
    "<span style=\"color:blue\">THIS IS YOUR TEST CASE</span>"
   ]
  },
  {
   "cell_type": "code",
   "execution_count": 183,
   "metadata": {
    "scrolled": false
   },
   "outputs": [
    {
     "name": "stdout",
     "output_type": "stream",
     "text": [
      "x reaches kxz at time t=1.1562\n",
      "x reaches kxy at time t=2.8078\n",
      "y reaches kyz at time t=4.7097\n"
     ]
    },
    {
     "data": {
      "image/png": "[encoded data removed]",
      "text/plain": [
       "<Figure size 432x288 with 4 Axes>"
      ]
     },
     "metadata": {},
     "output_type": "display_data"
    },
    {
     "name": "stdout",
     "output_type": "stream",
     "text": [
      "x reaches kxz at time t=2.0571\n",
      "x reaches kxy at time t=1.4565\n",
      "y reaches kyz at time t=3.3584\n"
     ]
    },
    {
     "data": {
      "image/png": "[encoded data removed]",
      "text/plain": [
       "<Figure size 432x288 with 4 Axes>"
      ]
     },
     "metadata": {},
     "output_type": "display_data"
    }
   ],
   "source": [
    "## your test case\n",
    "## RUN BUT DONT CHANGE ANYTHING\n",
    "sx,x,y,z = OR_gate_C1()\n",
    "plot_C1_FFL(sx,x,y,z,\"OR-gated C1-FFL with default parameters\")\n",
    "sx,x,y,z = OR_gate_C1(tOFF=15, beta=0.5, alpha=0.25, kxy=0.6, kxz=0.8, kyz=0.75)\n",
    "plot_C1_FFL(sx,x,y,z,\"OR-gated C1-FFL with changed parameters\")"
   ]
  },
  {
   "cell_type": "markdown",
   "metadata": {},
   "source": [
    "## Numerical approximations: Euler's Methd (20)"
   ]
  },
  {
   "cell_type": "markdown",
   "metadata": {},
   "source": [
    "Now let us try the numerical solution. We are using the numerical method taught in MATH 2930. If you want a more in-depth review, take a look at section 2.7 of the 'Elementary Differential Equations and Boundary Value Problems 11th'. But in summary, let a differential equation $\\partial y/\\partial x$ be :\n",
    "$$\\partial y/\\partial x = f(t,y),\\ y(t_0)=y_0$$\n",
    "We know that the solution passes through the initial point $(t_0, y_0)$, and from the differential equation, we also know that its slope at this point is $f(t_0, y_0)$. Since $f(t,y) = \\frac{\\partial y}{\\partial t} \\approx \\frac{\\Delta y}{\\Delta t}$, we can think of $f(t,y)$ as a small change in $y$ caused by a small change in $t$. Therefore, to approxiate $y(t,y)$, we can use this equation:\n",
    "$$y_{n}=y_{n-1}+(y_{n}-y_{n-1})=y_{n-1}+ \\frac{\\Delta y}{\\Delta t}\\times \\Delta t \\approx   y_{n-1}+f(t_{n-1},y_{n-1})\\Delta t \\ \\ \\ \\text{for $n=1,2,3...$}$$"
   ]
  },
  {
   "cell_type": "markdown",
   "metadata": {},
   "source": [
    "Here, we use <span style=\"color:red\">a persistance detection</span> to plot the graph for <span style=\"color:red\">a persistance detection</span> (remember from lecture AND-gate C1-FFL can allow $Z$ to be expressed only if $S_x$ is present for an extended time). You will also get an chance to see how this compares with the function of exactly solution that you wrote for AND-gate. "
   ]
  },
  {
   "cell_type": "code",
   "execution_count": 184,
   "metadata": {},
   "outputs": [],
   "source": [
    "def persistance_detection_numerical(beta=0.5, alpha=0.25, kxy=1.0, kxz=0.5, kyz=0.75, on1=0, off1=2, on2=12, off2=30):\n",
    "    \"\"\"\n",
    "    The exactly solution for persistance detection (just an AND-gated C1-FFL)\n",
    "    INPUT:\n",
    "        beta,alpha,kxy,kxz,kyz - parameters of the AND-gated C1-FFL\n",
    "    OUPUT:\n",
    "        sx,x,y,z - the exact values of these concentrations that varies with time t\n",
    "    \"\"\"\n",
    "    t = np.linspace(-5, 45, 1000)\n",
    "    sx,x,y,z = np.zeros(len(t)), np.zeros(len(t)), np.zeros(len(t)), np.zeros(len(t))\n",
    "\n",
    "    # Sx\n",
    "    # Let Sx to be turned on at on1, turned off at off1\n",
    "    # And then turned on at on2 again and turned off at off2 again\n",
    "    for i in range(len(t)):\n",
    "        if t[i] > on1 and t[i] <= off1:\n",
    "            sx[i] = 1\n",
    "        if t[i] > on2 and t[i] <= off2:\n",
    "            sx[i] = 1\n",
    "    \n",
    "    ## calculate the time step Delta t (dt)\n",
    "    ## Delta t = (start time -end time)/(no. of time segments)\n",
    "    ## Get this information from t = np.linspace(-5, 45, 1000)\n",
    "    #############################<GRADED>###########################################\n",
    "    \n",
    "    ##Fill in your solution\n",
    "    \n",
    "    dt = (45-(-5))/1000\n",
    "    #############################<GRADED>###########################################\n",
    "    \n",
    "    \n",
    "    # Righthand side of differential equation\n",
    "    # f(X) = dX/dt = beta*theta(X>K)-alpha*X\n",
    "    # Note that theta function is implicitly expressed as an if-else clause\n",
    "    def f_x(x, i):\n",
    "        if sx[i] == 1:\n",
    "            return beta - alpha *x\n",
    "        else:\n",
    "            return - alpha *x\n",
    "    \n",
    "    # Integrate the differential equation using Euler’s method\n",
    "    # Refer back to the notes above\n",
    "    for i in range(len(t)):\n",
    "        x[i] = x[i-1] + f_x(x[i-1], i-1)*dt\n",
    "    \n",
    "    \n",
    "    ## Now use the hints from how X(t) is computed\n",
    "    ## to calculate for Y and Z\n",
    "    ## remember this is an AND-gate!!!!\n",
    "    #############################<GRADED>###########################################\n",
    "    #Y\n",
    "    def f_y(y, i): \n",
    "        ##Fill in your solution\n",
    "        if x[i] >= kxy :\n",
    "            return beta-alpha*y\n",
    "        else:\n",
    "            return -alpha *y\n",
    "           \n",
    "    for i in range(len(t)):\n",
    "        ##Fill in your solution\n",
    "        y[i]= y[i-1] + f_y(y[i-1], i-1)*dt\n",
    "\n",
    "        \n",
    "    #Z\n",
    "    def f_z(z, i):\n",
    "        ##Fill in your solution\n",
    "        if x[i] >=kxz and y[i]>=kyz :\n",
    "            return beta - alpha *z\n",
    "        else:\n",
    "            return -alpha *z\n",
    "        \n",
    "    for i in range(len(t)):    \n",
    "        ##Fill in your solution\n",
    "        z[i] = z[i-1] + f_z(z[i-1], i-1)*dt\n",
    "    #############################<GRADED>###########################################\n",
    "    \n",
    "    return sx,x,y,z"
   ]
  },
  {
   "cell_type": "markdown",
   "metadata": {},
   "source": [
    "Below is the code for exact solution of persistance detection. Note that I only changed the way $S_x$ and $X$ is turned on and off. Remember to copy your solution from AND-gate C1-FFL to here! This will not be graded."
   ]
  },
  {
   "cell_type": "code",
   "execution_count": 185,
   "metadata": {},
   "outputs": [],
   "source": [
    "def persistance_detection_exact(beta=0.5, alpha=0.25, kxy=1.0, kxz=0.5, kyz=0.75, on1=0, off1=2, on2=12, off2=30):\n",
    "    \"\"\"\n",
    "    The exactly solution for persistance detection (just an AND-gated C1-FFL)\n",
    "    INPUT:\n",
    "        beta,alpha,kxy,kxz,kyz - parameters of the AND-gated C1-FFL\n",
    "    OUPUT:\n",
    "        sx,x,y,z - the exact values of these concentrations that varies with time t\n",
    "    \"\"\"\n",
    "    t = np.linspace(-5, 45, 1000)\n",
    "    sx,x,y,z = np.zeros(len(t)), np.zeros(len(t)), np.zeros(len(t)), np.zeros(len(t))\n",
    "\n",
    "    # Sx\n",
    "    # Let Sx to be turned on at on1, turned off at off1\n",
    "    # And then turned on at on2 again and turned off at off2 again\n",
    "    for i in range(len(t)):\n",
    "        if t[i] > on1 and t[i] <= off1:\n",
    "            sx[i] = 1\n",
    "        if t[i] > on2 and t[i] <= off2:\n",
    "            sx[i] = 1\n",
    "\n",
    "    # X\n",
    "    for i in range(len(t)):\n",
    "        if sx[i] == 1 and on1<t[i]<off1:\n",
    "            x[i] = beta/alpha * (1-np.exp(-alpha*(t[i]-on1)))\n",
    "        elif sx[i] == 0 and off1<t[i]<on2:\n",
    "            x[i] = max(x) * np.exp(-alpha * (t[i]-off1))\n",
    "        elif sx[i] == 1 and on2<t[i]<off2:\n",
    "            x[i] = beta/alpha * (1-np.exp(-alpha*(t[i]-on2)))\n",
    "        elif sx[i] == 0 and off2<t[i]:\n",
    "            x[i] = max(x) * np.exp(-alpha * (t[i]-off2))\n",
    "\n",
    "        \n",
    "    # Since the exact solution requires us to record the time \n",
    "    # when x just reach above kxy or kxz, and when x just drop below kxy or kxz\n",
    "    # this switches ON or OFF Y and Z\n",
    "    x_below_kxy = True # x is below kxy and kxz at the start\n",
    "    x_below_kxz = True\n",
    "    for i in range(len(t)):\n",
    "        if x_below_kxy and x[i] >= kxy:\n",
    "            x_below_kxy = False\n",
    "            x_reach_kxy = t[i]\n",
    "        elif not x_below_kxy and x[i] < kxy:\n",
    "            x_below_kxy = True\n",
    "            x_drop_kxy = t[i]\n",
    "        if x_below_kxz and x[i] >= kxz:\n",
    "            x_below_kxz = False\n",
    "            x_reach_kxz = t[i]\n",
    "        elif not x_below_kxz and x[i] < kxz:\n",
    "            x_below_kxz = True\n",
    "            x_drop_kxz = t[i]\n",
    "\n",
    "    # Y\n",
    "    for i in range(len(t)):\n",
    "        if x[i] > kxy:\n",
    "            # the exact solution of growth is shifted \n",
    "            # by a t=x_reach_kxy\n",
    "            y[i] = beta/alpha * (1-np.exp(-alpha*(t[i]-x_reach_kxy)))\n",
    "        elif x[i] < kxy and t[i] >= x_drop_kxy:\n",
    "            # the exact solution of decay is shifted \n",
    "            # by a t=x_drop_kxy\n",
    "            y[i] = beta/alpha * np.exp(-alpha*(t[i]-x_drop_kxy))\n",
    "\n",
    "    # Y threshold\n",
    "    y_below_kyz = True\n",
    "    for i in range(len(t)):\n",
    "        if y_below_kyz and y[i] >= kyz:\n",
    "            y_below_kyz = False\n",
    "            y_reach_kyz = t[i]\n",
    "        elif not y_below_kyz and y[i] < kyz:\n",
    "            y_below_kyz = True\n",
    "            y_drop_kyz = t[i]\n",
    "\n",
    "    # Z\n",
    "    # COPY your solution from AND_gate_C1 here!!!\n",
    "    # This is not graded\n",
    "    # If yours didn't work, we will test this base on sample solution\n",
    "    #############################<Not GRADED>###########################################\n",
    "     \n",
    "    ##Fill in your solution from AND_gate_C1\n",
    "    for i in range(len(t)):\n",
    "        if y[i]>=kyz and x[i]>=kxz:\n",
    "            if t[i]>=y_reach_kyz and t[i]>=x_reach_kxz:\n",
    "                # expression when both thresholds are reached\n",
    "                if x_reach_kxz < y_reach_kyz:\n",
    "                    larger_of_two = y_reach_kyz\n",
    "                elif x_reach_kxz >= y_reach_kyz:\n",
    "                    larger_of_two = x_reach_kxz\n",
    "                z[i] = beta/alpha*(1-np.exp(-alpha*(t[i]-larger_of_two)))\n",
    "     \n",
    "            \n",
    "    # decay begins when either X or Y is gone, Any OFF signal would turn Z OFF\n",
    "        elif y[i] < kyz or x[i] < kxz :\n",
    "            if t[i]>=y_drop_kyz or t[i]>=x_drop_kxz:\n",
    "                # Z decays immediately after reaching smaller drop\n",
    "                if y_drop_kyz >= x_drop_kxz:\n",
    "                    smaller_of_two = x_drop_kxz\n",
    "                elif y_drop_kyz < x_drop_kxz:\n",
    "                    smaller_of_two = y_drop_kyz\n",
    "                z[i] = beta/alpha * np.exp(-alpha*(t[i]-smaller_of_two))\n",
    "                \n",
    "    #############################<Not GRADED>###########################################\n",
    "\n",
    "    return sx,x,y,z"
   ]
  },
  {
   "cell_type": "markdown",
   "metadata": {},
   "source": [
    "Now let us see how they compares with each other. If you implemented your code correctly, both should show as the figure below:\n",
    "<center>\n",
    "    <img src=\"persistence.png\" width=\"400px\" />\n",
    "<center>\n",
    "    \n",
    "<span style=\"color:blue\">THIS IS YOUR TEST CASE</span>"
   ]
  },
  {
   "cell_type": "code",
   "execution_count": 186,
   "metadata": {},
   "outputs": [
    {
     "data": {
      "image/png": "[encoded data removed]",
      "text/plain": [
       "<Figure size 432x288 with 4 Axes>"
      ]
     },
     "metadata": {},
     "output_type": "display_data"
    },
    {
     "data": {
      "image/png": "[encoded data removed]",
      "text/plain": [
       "<Figure size 432x288 with 4 Axes>"
      ]
     },
     "metadata": {},
     "output_type": "display_data"
    }
   ],
   "source": [
    "## run this to check your answer!\n",
    "sx,x,y,z = persistance_detection_exact()\n",
    "plot_C1_FFL(sx,x,y,z,\"Persistance detection with AND-gate C1-FFL, using exact solution\")\n",
    "sx,x,y,z = persistance_detection_numerical()\n",
    "plot_C1_FFL(sx,x,y,z,\"Persistance detection with AND-gate C1-FFL, using numerical solution\")"
   ]
  },
  {
   "cell_type": "code",
   "execution_count": null,
   "metadata": {},
   "outputs": [],
   "source": []
  }
 ],
 "metadata": {
  "kernelspec": {
   "display_name": "Python 3",
   "language": "python",
   "name": "python3"
  },
  "language_info": {
   "codemirror_mode": {
    "name": "ipython",
    "version": 3
   },
   "file_extension": ".py",
   "mimetype": "text/x-python",
   "name": "python",
   "nbconvert_exporter": "python",
   "pygments_lexer": "ipython3",
   "version": "3.8.3"
  }
 },
 "nbformat": 4,
 "nbformat_minor": 4
}
